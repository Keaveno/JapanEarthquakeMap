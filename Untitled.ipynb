{
 "cells": [
  {
   "cell_type": "code",
   "execution_count": 8,
   "id": "7f5fb9f2",
   "metadata": {},
   "outputs": [],
   "source": [
    "import pandas as pd\n",
    "\n",
    "df = pd.read_csv('earthquake.txt', sep='\\t')"
   ]
  },
  {
   "cell_type": "code",
   "execution_count": 10,
   "id": "dc81fd65",
   "metadata": {},
   "outputs": [
    {
     "data": {
      "text/html": [
       "<div>\n",
       "<style scoped>\n",
       "    .dataframe tbody tr th:only-of-type {\n",
       "        vertical-align: middle;\n",
       "    }\n",
       "\n",
       "    .dataframe tbody tr th {\n",
       "        vertical-align: top;\n",
       "    }\n",
       "\n",
       "    .dataframe thead th {\n",
       "        text-align: right;\n",
       "    }\n",
       "</style>\n",
       "<table border=\"1\" class=\"dataframe\">\n",
       "  <thead>\n",
       "    <tr style=\"text-align: right;\">\n",
       "      <th></th>\n",
       "      <th>지진 탐지 일시</th>\n",
       "      <th>진앙지역명</th>\n",
       "      <th>매그니튜드(규모)</th>\n",
       "      <th>최대 진도</th>\n",
       "      <th>발표 일시</th>\n",
       "    </tr>\n",
       "  </thead>\n",
       "  <tbody>\n",
       "    <tr>\n",
       "      <th>0</th>\n",
       "      <td>2024/01/04 08:11</td>\n",
       "      <td>이시카와 현 노토 지방</td>\n",
       "      <td>3.4</td>\n",
       "      <td>2</td>\n",
       "      <td>2024/01/04 08:14</td>\n",
       "    </tr>\n",
       "    <tr>\n",
       "      <th>1</th>\n",
       "      <td>2024/01/04 08:09</td>\n",
       "      <td>이시카와 현 노토 지방</td>\n",
       "      <td>2.8</td>\n",
       "      <td>1</td>\n",
       "      <td>2024/01/04 08:11</td>\n",
       "    </tr>\n",
       "    <tr>\n",
       "      <th>2</th>\n",
       "      <td>2024/01/04 08:06</td>\n",
       "      <td>이시카와 현 노토 지방</td>\n",
       "      <td>3.3</td>\n",
       "      <td>1</td>\n",
       "      <td>2024/01/04 08:08</td>\n",
       "    </tr>\n",
       "    <tr>\n",
       "      <th>3</th>\n",
       "      <td>2024/01/04 07:47</td>\n",
       "      <td>이시카와 현 노토 지방</td>\n",
       "      <td>3.1</td>\n",
       "      <td>2</td>\n",
       "      <td>2024/01/04 07:50</td>\n",
       "    </tr>\n",
       "    <tr>\n",
       "      <th>4</th>\n",
       "      <td>2024/01/04 07:29</td>\n",
       "      <td>이시카와 현 노토 지방</td>\n",
       "      <td>3.1</td>\n",
       "      <td>1</td>\n",
       "      <td>2024/01/04 07:32</td>\n",
       "    </tr>\n",
       "  </tbody>\n",
       "</table>\n",
       "</div>"
      ],
      "text/plain": [
       "           지진 탐지 일시         진앙지역명  매그니튜드(규모) 최대 진도             발표 일시\n",
       "0  2024/01/04 08:11  이시카와 현 노토 지방        3.4     2  2024/01/04 08:14\n",
       "1  2024/01/04 08:09  이시카와 현 노토 지방        2.8     1  2024/01/04 08:11\n",
       "2  2024/01/04 08:06  이시카와 현 노토 지방        3.3     1  2024/01/04 08:08\n",
       "3  2024/01/04 07:47  이시카와 현 노토 지방        3.1     2  2024/01/04 07:50\n",
       "4  2024/01/04 07:29  이시카와 현 노토 지방        3.1     1  2024/01/04 07:32"
      ]
     },
     "execution_count": 10,
     "metadata": {},
     "output_type": "execute_result"
    }
   ],
   "source": [
    "df[:5]"
   ]
  },
  {
   "cell_type": "code",
   "execution_count": 13,
   "id": "7b442a66",
   "metadata": {},
   "outputs": [
    {
     "data": {
      "text/plain": [
       "진앙지역명\n",
       "가고시마 현 오스미 지방           1\n",
       "구마모토 현 구마모토 지방          1\n",
       "구마모토 현 아마쿠사·아시 키타 지방    1\n",
       "구마모토 현 아소 지방            1\n",
       "군마 현 남부                 1\n",
       "dtype: int64"
      ]
     },
     "execution_count": 13,
     "metadata": {},
     "output_type": "execute_result"
    }
   ],
   "source": [
    "grouped_df = df.groupby('진앙지역명').size()\n",
    "grouped_df[:5]"
   ]
  },
  {
   "cell_type": "code",
   "execution_count": 12,
   "id": "1c892239",
   "metadata": {},
   "outputs": [
    {
     "data": {
      "text/html": [
       "<div>\n",
       "<style scoped>\n",
       "    .dataframe tbody tr th:only-of-type {\n",
       "        vertical-align: middle;\n",
       "    }\n",
       "\n",
       "    .dataframe tbody tr th {\n",
       "        vertical-align: top;\n",
       "    }\n",
       "\n",
       "    .dataframe thead th {\n",
       "        text-align: right;\n",
       "    }\n",
       "</style>\n",
       "<table border=\"1\" class=\"dataframe\">\n",
       "  <thead>\n",
       "    <tr style=\"text-align: right;\">\n",
       "      <th></th>\n",
       "      <th>진앙지역명</th>\n",
       "      <th>지진 발생 횟수</th>\n",
       "    </tr>\n",
       "  </thead>\n",
       "  <tbody>\n",
       "    <tr>\n",
       "      <th>0</th>\n",
       "      <td>가고시마 현 오스미 지방</td>\n",
       "      <td>1</td>\n",
       "    </tr>\n",
       "    <tr>\n",
       "      <th>1</th>\n",
       "      <td>구마모토 현 구마모토 지방</td>\n",
       "      <td>1</td>\n",
       "    </tr>\n",
       "    <tr>\n",
       "      <th>2</th>\n",
       "      <td>구마모토 현 아마쿠사·아시 키타 지방</td>\n",
       "      <td>1</td>\n",
       "    </tr>\n",
       "    <tr>\n",
       "      <th>3</th>\n",
       "      <td>구마모토 현 아소 지방</td>\n",
       "      <td>1</td>\n",
       "    </tr>\n",
       "    <tr>\n",
       "      <th>4</th>\n",
       "      <td>군마 현 남부</td>\n",
       "      <td>1</td>\n",
       "    </tr>\n",
       "    <tr>\n",
       "      <th>...</th>\n",
       "      <td>...</td>\n",
       "      <td>...</td>\n",
       "    </tr>\n",
       "    <tr>\n",
       "      <th>63</th>\n",
       "      <td>후쿠시마 현 아이즈</td>\n",
       "      <td>2</td>\n",
       "    </tr>\n",
       "    <tr>\n",
       "      <th>64</th>\n",
       "      <td>후쿠시마 현 하마 도리</td>\n",
       "      <td>1</td>\n",
       "    </tr>\n",
       "    <tr>\n",
       "      <th>65</th>\n",
       "      <td>후쿠이현 영남</td>\n",
       "      <td>1</td>\n",
       "    </tr>\n",
       "    <tr>\n",
       "      <th>66</th>\n",
       "      <td>히다카 지방 서부</td>\n",
       "      <td>1</td>\n",
       "    </tr>\n",
       "    <tr>\n",
       "      <th>67</th>\n",
       "      <td>히다카 지방 중부</td>\n",
       "      <td>1</td>\n",
       "    </tr>\n",
       "  </tbody>\n",
       "</table>\n",
       "<p>68 rows × 2 columns</p>\n",
       "</div>"
      ],
      "text/plain": [
       "                   진앙지역명  지진 발생 횟수\n",
       "0          가고시마 현 오스미 지방         1\n",
       "1         구마모토 현 구마모토 지방         1\n",
       "2   구마모토 현 아마쿠사·아시 키타 지방         1\n",
       "3           구마모토 현 아소 지방         1\n",
       "4                군마 현 남부         1\n",
       "..                   ...       ...\n",
       "63            후쿠시마 현 아이즈         2\n",
       "64          후쿠시마 현 하마 도리         1\n",
       "65               후쿠이현 영남         1\n",
       "66             히다카 지방 서부         1\n",
       "67             히다카 지방 중부         1\n",
       "\n",
       "[68 rows x 2 columns]"
      ]
     },
     "execution_count": 12,
     "metadata": {},
     "output_type": "execute_result"
    }
   ],
   "source": [
    "grouped_df = grouped_df.reset_index()\n",
    "grouped_df.columns = ['진앙지역명', '지진 발생 횟수']\n",
    "grouped_df"
   ]
  },
  {
   "cell_type": "code",
   "execution_count": null,
   "id": "c282f5f7",
   "metadata": {},
   "outputs": [],
   "source": []
  }
 ],
 "metadata": {
  "kernelspec": {
   "display_name": "Python 3 (ipykernel)",
   "language": "python",
   "name": "python3"
  },
  "language_info": {
   "codemirror_mode": {
    "name": "ipython",
    "version": 3
   },
   "file_extension": ".py",
   "mimetype": "text/x-python",
   "name": "python",
   "nbconvert_exporter": "python",
   "pygments_lexer": "ipython3",
   "version": "3.11.5"
  }
 },
 "nbformat": 4,
 "nbformat_minor": 5
}
